{
  "nbformat": 4,
  "nbformat_minor": 0,
  "metadata": {
    "colab": {
      "provenance": [],
      "authorship_tag": "ABX9TyOfMXvdlQN6EJKWBteLVe3O",
      "include_colab_link": true
    },
    "kernelspec": {
      "name": "python3",
      "display_name": "Python 3"
    },
    "language_info": {
      "name": "python"
    }
  },
  "cells": [
    {
      "cell_type": "markdown",
      "metadata": {
        "id": "view-in-github",
        "colab_type": "text"
      },
      "source": [
        "<a href=\"https://colab.research.google.com/github/Alejandro-lopez1/ventas-pandas/blob/main/Untitled3.ipynb\" target=\"_parent\"><img src=\"https://colab.research.google.com/assets/colab-badge.svg\" alt=\"Open In Colab\"/></a>"
      ]
    },
    {
      "cell_type": "markdown",
      "source": [
        "#**Analizamos un archivo .xlsx donde están registradas las ventas de un local de comidas rápidas**\n",
        "\n",
        "En este Notebook vamos a analizar y estudiar las métricas de un local, basándonos en una hoja de Excel donde se registraban las ventas diarias."
      ],
      "metadata": {
        "id": "e1KxIFKd5jW1"
      }
    },
    {
      "cell_type": "code",
      "execution_count": 4,
      "metadata": {
        "id": "MxAyQS8ZOKjt"
      },
      "outputs": [],
      "source": [
        "#Importamos las librerías necesarias\n",
        "import pandas as pd\n",
        "import matplotlib.pyplot as plt\n",
        "import seaborn as sns"
      ]
    },
    {
      "cell_type": "code",
      "source": [
        "#leer el archivo\n",
        "df = pd.read_excel('ventas_negocio_simuladas.xlsx')\n",
        "df.head(5)\n"
      ],
      "metadata": {
        "colab": {
          "base_uri": "https://localhost:8080/",
          "height": 310
        },
        "collapsed": true,
        "id": "8_G5ck55RA0O",
        "outputId": "033c3278-01d6-4e73-92ec-ddca50877098"
      },
      "execution_count": 28,
      "outputs": [
        {
          "output_type": "execute_result",
          "data": {
            "text/plain": [
              "       Fecha        Producto  Cantidad  Precio Unitario  Total Venta  \\\n",
              "0 2024-01-01         Cerveza         3             1500         4500   \n",
              "1 2024-01-01           Papas         4             1700         6800   \n",
              "2 2024-01-01  Hamburguesa XL         3             3200         9600   \n",
              "3 2024-01-01           Papas         2             1700         3400   \n",
              "4 2024-01-01  Hamburguesa XL         5             3200        16000   \n",
              "\n",
              "   Costo Unitario  Total Costo  Ganancia  \n",
              "0            1210         3630       870  \n",
              "1            1000         4000      2800  \n",
              "2            2100         6300      3300  \n",
              "3            1000         2000      1400  \n",
              "4            2100        10500      5500  "
            ],
            "text/html": [
              "\n",
              "  <div id=\"df-ea550b7b-bce5-4093-b2ba-b71ee3f3cb4c\" class=\"colab-df-container\">\n",
              "    <div>\n",
              "<style scoped>\n",
              "    .dataframe tbody tr th:only-of-type {\n",
              "        vertical-align: middle;\n",
              "    }\n",
              "\n",
              "    .dataframe tbody tr th {\n",
              "        vertical-align: top;\n",
              "    }\n",
              "\n",
              "    .dataframe thead th {\n",
              "        text-align: right;\n",
              "    }\n",
              "</style>\n",
              "<table border=\"1\" class=\"dataframe\">\n",
              "  <thead>\n",
              "    <tr style=\"text-align: right;\">\n",
              "      <th></th>\n",
              "      <th>Fecha</th>\n",
              "      <th>Producto</th>\n",
              "      <th>Cantidad</th>\n",
              "      <th>Precio Unitario</th>\n",
              "      <th>Total Venta</th>\n",
              "      <th>Costo Unitario</th>\n",
              "      <th>Total Costo</th>\n",
              "      <th>Ganancia</th>\n",
              "    </tr>\n",
              "  </thead>\n",
              "  <tbody>\n",
              "    <tr>\n",
              "      <th>0</th>\n",
              "      <td>2024-01-01</td>\n",
              "      <td>Cerveza</td>\n",
              "      <td>3</td>\n",
              "      <td>1500</td>\n",
              "      <td>4500</td>\n",
              "      <td>1210</td>\n",
              "      <td>3630</td>\n",
              "      <td>870</td>\n",
              "    </tr>\n",
              "    <tr>\n",
              "      <th>1</th>\n",
              "      <td>2024-01-01</td>\n",
              "      <td>Papas</td>\n",
              "      <td>4</td>\n",
              "      <td>1700</td>\n",
              "      <td>6800</td>\n",
              "      <td>1000</td>\n",
              "      <td>4000</td>\n",
              "      <td>2800</td>\n",
              "    </tr>\n",
              "    <tr>\n",
              "      <th>2</th>\n",
              "      <td>2024-01-01</td>\n",
              "      <td>Hamburguesa XL</td>\n",
              "      <td>3</td>\n",
              "      <td>3200</td>\n",
              "      <td>9600</td>\n",
              "      <td>2100</td>\n",
              "      <td>6300</td>\n",
              "      <td>3300</td>\n",
              "    </tr>\n",
              "    <tr>\n",
              "      <th>3</th>\n",
              "      <td>2024-01-01</td>\n",
              "      <td>Papas</td>\n",
              "      <td>2</td>\n",
              "      <td>1700</td>\n",
              "      <td>3400</td>\n",
              "      <td>1000</td>\n",
              "      <td>2000</td>\n",
              "      <td>1400</td>\n",
              "    </tr>\n",
              "    <tr>\n",
              "      <th>4</th>\n",
              "      <td>2024-01-01</td>\n",
              "      <td>Hamburguesa XL</td>\n",
              "      <td>5</td>\n",
              "      <td>3200</td>\n",
              "      <td>16000</td>\n",
              "      <td>2100</td>\n",
              "      <td>10500</td>\n",
              "      <td>5500</td>\n",
              "    </tr>\n",
              "  </tbody>\n",
              "</table>\n",
              "</div>\n",
              "    <div class=\"colab-df-buttons\">\n",
              "\n",
              "  <div class=\"colab-df-container\">\n",
              "    <button class=\"colab-df-convert\" onclick=\"convertToInteractive('df-ea550b7b-bce5-4093-b2ba-b71ee3f3cb4c')\"\n",
              "            title=\"Convert this dataframe to an interactive table.\"\n",
              "            style=\"display:none;\">\n",
              "\n",
              "  <svg xmlns=\"http://www.w3.org/2000/svg\" height=\"24px\" viewBox=\"0 -960 960 960\">\n",
              "    <path d=\"M120-120v-720h720v720H120Zm60-500h600v-160H180v160Zm220 220h160v-160H400v160Zm0 220h160v-160H400v160ZM180-400h160v-160H180v160Zm440 0h160v-160H620v160ZM180-180h160v-160H180v160Zm440 0h160v-160H620v160Z\"/>\n",
              "  </svg>\n",
              "    </button>\n",
              "\n",
              "  <style>\n",
              "    .colab-df-container {\n",
              "      display:flex;\n",
              "      gap: 12px;\n",
              "    }\n",
              "\n",
              "    .colab-df-convert {\n",
              "      background-color: #E8F0FE;\n",
              "      border: none;\n",
              "      border-radius: 50%;\n",
              "      cursor: pointer;\n",
              "      display: none;\n",
              "      fill: #1967D2;\n",
              "      height: 32px;\n",
              "      padding: 0 0 0 0;\n",
              "      width: 32px;\n",
              "    }\n",
              "\n",
              "    .colab-df-convert:hover {\n",
              "      background-color: #E2EBFA;\n",
              "      box-shadow: 0px 1px 2px rgba(60, 64, 67, 0.3), 0px 1px 3px 1px rgba(60, 64, 67, 0.15);\n",
              "      fill: #174EA6;\n",
              "    }\n",
              "\n",
              "    .colab-df-buttons div {\n",
              "      margin-bottom: 4px;\n",
              "    }\n",
              "\n",
              "    [theme=dark] .colab-df-convert {\n",
              "      background-color: #3B4455;\n",
              "      fill: #D2E3FC;\n",
              "    }\n",
              "\n",
              "    [theme=dark] .colab-df-convert:hover {\n",
              "      background-color: #434B5C;\n",
              "      box-shadow: 0px 1px 3px 1px rgba(0, 0, 0, 0.15);\n",
              "      filter: drop-shadow(0px 1px 2px rgba(0, 0, 0, 0.3));\n",
              "      fill: #FFFFFF;\n",
              "    }\n",
              "  </style>\n",
              "\n",
              "    <script>\n",
              "      const buttonEl =\n",
              "        document.querySelector('#df-ea550b7b-bce5-4093-b2ba-b71ee3f3cb4c button.colab-df-convert');\n",
              "      buttonEl.style.display =\n",
              "        google.colab.kernel.accessAllowed ? 'block' : 'none';\n",
              "\n",
              "      async function convertToInteractive(key) {\n",
              "        const element = document.querySelector('#df-ea550b7b-bce5-4093-b2ba-b71ee3f3cb4c');\n",
              "        const dataTable =\n",
              "          await google.colab.kernel.invokeFunction('convertToInteractive',\n",
              "                                                    [key], {});\n",
              "        if (!dataTable) return;\n",
              "\n",
              "        const docLinkHtml = 'Like what you see? Visit the ' +\n",
              "          '<a target=\"_blank\" href=https://colab.research.google.com/notebooks/data_table.ipynb>data table notebook</a>'\n",
              "          + ' to learn more about interactive tables.';\n",
              "        element.innerHTML = '';\n",
              "        dataTable['output_type'] = 'display_data';\n",
              "        await google.colab.output.renderOutput(dataTable, element);\n",
              "        const docLink = document.createElement('div');\n",
              "        docLink.innerHTML = docLinkHtml;\n",
              "        element.appendChild(docLink);\n",
              "      }\n",
              "    </script>\n",
              "  </div>\n",
              "\n",
              "\n",
              "    <div id=\"df-76d8d5f0-90e9-409f-97de-b0ff1082864b\">\n",
              "      <button class=\"colab-df-quickchart\" onclick=\"quickchart('df-76d8d5f0-90e9-409f-97de-b0ff1082864b')\"\n",
              "                title=\"Suggest charts\"\n",
              "                style=\"display:none;\">\n",
              "\n",
              "<svg xmlns=\"http://www.w3.org/2000/svg\" height=\"24px\"viewBox=\"0 0 24 24\"\n",
              "     width=\"24px\">\n",
              "    <g>\n",
              "        <path d=\"M19 3H5c-1.1 0-2 .9-2 2v14c0 1.1.9 2 2 2h14c1.1 0 2-.9 2-2V5c0-1.1-.9-2-2-2zM9 17H7v-7h2v7zm4 0h-2V7h2v10zm4 0h-2v-4h2v4z\"/>\n",
              "    </g>\n",
              "</svg>\n",
              "      </button>\n",
              "\n",
              "<style>\n",
              "  .colab-df-quickchart {\n",
              "      --bg-color: #E8F0FE;\n",
              "      --fill-color: #1967D2;\n",
              "      --hover-bg-color: #E2EBFA;\n",
              "      --hover-fill-color: #174EA6;\n",
              "      --disabled-fill-color: #AAA;\n",
              "      --disabled-bg-color: #DDD;\n",
              "  }\n",
              "\n",
              "  [theme=dark] .colab-df-quickchart {\n",
              "      --bg-color: #3B4455;\n",
              "      --fill-color: #D2E3FC;\n",
              "      --hover-bg-color: #434B5C;\n",
              "      --hover-fill-color: #FFFFFF;\n",
              "      --disabled-bg-color: #3B4455;\n",
              "      --disabled-fill-color: #666;\n",
              "  }\n",
              "\n",
              "  .colab-df-quickchart {\n",
              "    background-color: var(--bg-color);\n",
              "    border: none;\n",
              "    border-radius: 50%;\n",
              "    cursor: pointer;\n",
              "    display: none;\n",
              "    fill: var(--fill-color);\n",
              "    height: 32px;\n",
              "    padding: 0;\n",
              "    width: 32px;\n",
              "  }\n",
              "\n",
              "  .colab-df-quickchart:hover {\n",
              "    background-color: var(--hover-bg-color);\n",
              "    box-shadow: 0 1px 2px rgba(60, 64, 67, 0.3), 0 1px 3px 1px rgba(60, 64, 67, 0.15);\n",
              "    fill: var(--button-hover-fill-color);\n",
              "  }\n",
              "\n",
              "  .colab-df-quickchart-complete:disabled,\n",
              "  .colab-df-quickchart-complete:disabled:hover {\n",
              "    background-color: var(--disabled-bg-color);\n",
              "    fill: var(--disabled-fill-color);\n",
              "    box-shadow: none;\n",
              "  }\n",
              "\n",
              "  .colab-df-spinner {\n",
              "    border: 2px solid var(--fill-color);\n",
              "    border-color: transparent;\n",
              "    border-bottom-color: var(--fill-color);\n",
              "    animation:\n",
              "      spin 1s steps(1) infinite;\n",
              "  }\n",
              "\n",
              "  @keyframes spin {\n",
              "    0% {\n",
              "      border-color: transparent;\n",
              "      border-bottom-color: var(--fill-color);\n",
              "      border-left-color: var(--fill-color);\n",
              "    }\n",
              "    20% {\n",
              "      border-color: transparent;\n",
              "      border-left-color: var(--fill-color);\n",
              "      border-top-color: var(--fill-color);\n",
              "    }\n",
              "    30% {\n",
              "      border-color: transparent;\n",
              "      border-left-color: var(--fill-color);\n",
              "      border-top-color: var(--fill-color);\n",
              "      border-right-color: var(--fill-color);\n",
              "    }\n",
              "    40% {\n",
              "      border-color: transparent;\n",
              "      border-right-color: var(--fill-color);\n",
              "      border-top-color: var(--fill-color);\n",
              "    }\n",
              "    60% {\n",
              "      border-color: transparent;\n",
              "      border-right-color: var(--fill-color);\n",
              "    }\n",
              "    80% {\n",
              "      border-color: transparent;\n",
              "      border-right-color: var(--fill-color);\n",
              "      border-bottom-color: var(--fill-color);\n",
              "    }\n",
              "    90% {\n",
              "      border-color: transparent;\n",
              "      border-bottom-color: var(--fill-color);\n",
              "    }\n",
              "  }\n",
              "</style>\n",
              "\n",
              "      <script>\n",
              "        async function quickchart(key) {\n",
              "          const quickchartButtonEl =\n",
              "            document.querySelector('#' + key + ' button');\n",
              "          quickchartButtonEl.disabled = true;  // To prevent multiple clicks.\n",
              "          quickchartButtonEl.classList.add('colab-df-spinner');\n",
              "          try {\n",
              "            const charts = await google.colab.kernel.invokeFunction(\n",
              "                'suggestCharts', [key], {});\n",
              "          } catch (error) {\n",
              "            console.error('Error during call to suggestCharts:', error);\n",
              "          }\n",
              "          quickchartButtonEl.classList.remove('colab-df-spinner');\n",
              "          quickchartButtonEl.classList.add('colab-df-quickchart-complete');\n",
              "        }\n",
              "        (() => {\n",
              "          let quickchartButtonEl =\n",
              "            document.querySelector('#df-76d8d5f0-90e9-409f-97de-b0ff1082864b button');\n",
              "          quickchartButtonEl.style.display =\n",
              "            google.colab.kernel.accessAllowed ? 'block' : 'none';\n",
              "        })();\n",
              "      </script>\n",
              "    </div>\n",
              "\n",
              "    </div>\n",
              "  </div>\n"
            ],
            "application/vnd.google.colaboratory.intrinsic+json": {
              "type": "dataframe",
              "variable_name": "df",
              "summary": "{\n  \"name\": \"df\",\n  \"rows\": 2309,\n  \"fields\": [\n    {\n      \"column\": \"Fecha\",\n      \"properties\": {\n        \"dtype\": \"date\",\n        \"min\": \"2024-01-01 00:00:00\",\n        \"max\": \"2024-03-31 00:00:00\",\n        \"num_unique_values\": 91,\n        \"samples\": [\n          \"2024-02-10 00:00:00\",\n          \"2024-01-23 00:00:00\",\n          \"2024-02-25 00:00:00\"\n        ],\n        \"semantic_type\": \"\",\n        \"description\": \"\"\n      }\n    },\n    {\n      \"column\": \"Producto\",\n      \"properties\": {\n        \"dtype\": \"category\",\n        \"num_unique_values\": 5,\n        \"samples\": [\n          \"Papas\",\n          \"Pizza\",\n          \"Hamburguesa XL\"\n        ],\n        \"semantic_type\": \"\",\n        \"description\": \"\"\n      }\n    },\n    {\n      \"column\": \"Cantidad\",\n      \"properties\": {\n        \"dtype\": \"number\",\n        \"std\": 1,\n        \"min\": 1,\n        \"max\": 5,\n        \"num_unique_values\": 5,\n        \"samples\": [\n          4,\n          1,\n          2\n        ],\n        \"semantic_type\": \"\",\n        \"description\": \"\"\n      }\n    },\n    {\n      \"column\": \"Precio Unitario\",\n      \"properties\": {\n        \"dtype\": \"number\",\n        \"std\": 1280,\n        \"min\": 1500,\n        \"max\": 5500,\n        \"num_unique_values\": 5,\n        \"samples\": [\n          1700,\n          5500,\n          3200\n        ],\n        \"semantic_type\": \"\",\n        \"description\": \"\"\n      }\n    },\n    {\n      \"column\": \"Total Venta\",\n      \"properties\": {\n        \"dtype\": \"number\",\n        \"std\": 5735,\n        \"min\": 1500,\n        \"max\": 27500,\n        \"num_unique_values\": 24,\n        \"samples\": [\n          12800,\n          6600,\n          4500\n        ],\n        \"semantic_type\": \"\",\n        \"description\": \"\"\n      }\n    },\n    {\n      \"column\": \"Costo Unitario\",\n      \"properties\": {\n        \"dtype\": \"number\",\n        \"std\": 760,\n        \"min\": 1000,\n        \"max\": 3350,\n        \"num_unique_values\": 5,\n        \"samples\": [\n          1000,\n          3350,\n          2100\n        ],\n        \"semantic_type\": \"\",\n        \"description\": \"\"\n      }\n    },\n    {\n      \"column\": \"Total Costo\",\n      \"properties\": {\n        \"dtype\": \"number\",\n        \"std\": 3546,\n        \"min\": 1000,\n        \"max\": 16750,\n        \"num_unique_values\": 24,\n        \"samples\": [\n          8400,\n          1210,\n          3630\n        ],\n        \"semantic_type\": \"\",\n        \"description\": \"\"\n      }\n    },\n    {\n      \"column\": \"Ganancia\",\n      \"properties\": {\n        \"dtype\": \"number\",\n        \"std\": 2244,\n        \"min\": 290,\n        \"max\": 10750,\n        \"num_unique_values\": 20,\n        \"samples\": [\n          870,\n          1450,\n          290\n        ],\n        \"semantic_type\": \"\",\n        \"description\": \"\"\n      }\n    }\n  ]\n}"
            }
          },
          "metadata": {},
          "execution_count": 28
        }
      ]
    },
    {
      "cell_type": "code",
      "source": [
        "df.columns"
      ],
      "metadata": {
        "colab": {
          "base_uri": "https://localhost:8080/"
        },
        "id": "48_UiiGQRnHQ",
        "outputId": "71abe400-0cc9-4724-8c1a-c55ed01e68fd"
      },
      "execution_count": 43,
      "outputs": [
        {
          "output_type": "execute_result",
          "data": {
            "text/plain": [
              "Index(['Fecha', 'Producto', 'Cantidad', 'Precio Unitario', 'Total Venta',\n",
              "       'Costo Unitario', 'Total Costo', 'Ganancia'],\n",
              "      dtype='object')"
            ]
          },
          "metadata": {},
          "execution_count": 43
        }
      ]
    },
    {
      "cell_type": "markdown",
      "source": [
        "#**En esta parte creamos una función para leer de manera más óptima los números resultados de las sumas.**"
      ],
      "metadata": {
        "id": "7Fu82k5o6ZeG"
      }
    },
    {
      "cell_type": "code",
      "source": [
        "#Creamos una función para formatear números con separador al llegar al millar\n",
        "def formatear_miles(valor, moneda=False):\n",
        "  if isinstance(valor, (int, float)):\n",
        "    resultado = f\"{valor:,.0f}\".replace(\",\", \".\")\n",
        "    return f\"${resultado}\" if moneda else resultado\n",
        "  else:\n",
        "    return valor"
      ],
      "metadata": {
        "id": "3saoCUm0wN5x"
      },
      "execution_count": 48,
      "outputs": []
    },
    {
      "cell_type": "code",
      "source": [
        "#calculamos el total de las ventas realizadas\n",
        "total_venta = df['Total Venta'].sum()\n",
        "print(formatear_miles(int(total_venta)))"
      ],
      "metadata": {
        "colab": {
          "base_uri": "https://localhost:8080/"
        },
        "id": "Q_BFvhGqrpep",
        "outputId": "997fa9f2-a9f9-484d-f071-627e53e6302d"
      },
      "execution_count": 50,
      "outputs": [
        {
          "output_type": "stream",
          "name": "stdout",
          "text": [
            "18.535.600\n"
          ]
        }
      ]
    },
    {
      "cell_type": "markdown",
      "source": [
        "#**Econtramos el producto más vendido**\n",
        "¿Qué hace este código?\n",
        "\n",
        "\n",
        "\n",
        "*   Agrupa por nombre del producto\n",
        "*   Suma las cantidad vendida por cada producto\n",
        "*   Ordena de mayor a menor\n",
        "*   Muestra el más vendido con \"head()\"\n",
        "\n",
        "\n"
      ],
      "metadata": {
        "id": "d1ams1LX1LLS"
      }
    },
    {
      "cell_type": "code",
      "source": [
        "#calculamos el producto más vendido:\n",
        "producto_mas_vendido = (\n",
        "    df.groupby(\"Producto\")[\"Cantidad\"]\n",
        "    .sum()\n",
        "    .sort_values(ascending=False)\n",
        ")\n",
        "\n",
        "print(producto_mas_vendido.head(3)) #los 3 más vendidos"
      ],
      "metadata": {
        "colab": {
          "base_uri": "https://localhost:8080/"
        },
        "id": "MHLNPaHZsaTL",
        "outputId": "304ddf03-9e9b-4ff1-da38-80bb4aedb039"
      },
      "execution_count": 55,
      "outputs": [
        {
          "output_type": "stream",
          "name": "stdout",
          "text": [
            "Producto\n",
            "Hamburguesa Regular    2008\n",
            "Papas                  1686\n",
            "Hamburguesa XL         1469\n",
            "Name: Cantidad, dtype: int64\n"
          ]
        }
      ]
    },
    {
      "cell_type": "markdown",
      "source": [
        "#**Producto que más ingresos generó (ventas totales)**\n",
        "\n",
        "Asumiendo que la columna \"Total Venta\" representa los ingresos de cada transacción:"
      ],
      "metadata": {
        "id": "mTxRTFUE2Nsr"
      }
    },
    {
      "cell_type": "code",
      "source": [
        "producto_mayor_ingreso = (\n",
        "    df.groupby(\"Producto\")[\"Total Venta\"]\n",
        "    .sum()\n",
        "    .sort_values(ascending=False)\n",
        ")\n",
        "\n",
        "print(producto_mayor_ingreso.head(1))"
      ],
      "metadata": {
        "colab": {
          "base_uri": "https://localhost:8080/"
        },
        "id": "OVLVuetvszCD",
        "outputId": "bc1927d4-1424-4ec5-f463-d9d544f0da68"
      },
      "execution_count": 62,
      "outputs": [
        {
          "output_type": "stream",
          "name": "stdout",
          "text": [
            "Producto\n",
            "Pizza    5423000\n",
            "Name: Total Venta, dtype: int64\n"
          ]
        }
      ]
    },
    {
      "cell_type": "markdown",
      "source": [
        "#**Ahora llegó el turno de mostrar el producto que dejó más ganancia.**"
      ],
      "metadata": {
        "id": "fcUVN4S03aas"
      }
    },
    {
      "cell_type": "code",
      "source": [
        "producto_mayor_ganancia = (\n",
        "    df.groupby(\"Producto\")[\"Ganancia\"]\n",
        "    .sum()\n",
        "    .sort_values(ascending=False)\n",
        ")\n",
        "\n",
        "print(producto_mayor_ganancia.head(1))  # Producto más rentable\n"
      ],
      "metadata": {
        "colab": {
          "base_uri": "https://localhost:8080/"
        },
        "id": "fbLHuZhjtEqj",
        "outputId": "0201010b-91d2-4684-b458-27a3211cf1dc"
      },
      "execution_count": 63,
      "outputs": [
        {
          "output_type": "stream",
          "name": "stdout",
          "text": [
            "Producto\n",
            "Pizza    2119900\n",
            "Name: Ganancia, dtype: int64\n"
          ]
        }
      ]
    },
    {
      "cell_type": "markdown",
      "source": [
        "#**Ahora comparamos estos valores en unsa sola tabla:**"
      ],
      "metadata": {
        "id": "T9fo2u703rLk"
      }
    },
    {
      "cell_type": "code",
      "source": [
        "df_ganancias = df.groupby(\"Producto\")[[\"Cantidad\", \"Total Venta\", \"Ganancia\"]].sum()\n",
        "df_ganancias = df_ganancias.sort_values(\"Ganancia\", ascending=False)\n",
        "\n",
        "# Formatear si querés ver bonito\n",
        "df_ganancias[\"Total Venta\"] = df_ganancias[\"Total Venta\"].apply(lambda x: formatear_miles(x, True))\n",
        "df_ganancias[\"Ganancia\"] = df_ganancias[\"Ganancia\"].apply(lambda x: formatear_miles(x, True))\n",
        "\n",
        "print(df_ganancias.head(3))\n"
      ],
      "metadata": {
        "colab": {
          "base_uri": "https://localhost:8080/"
        },
        "id": "DM_wdlxW3vyv",
        "outputId": "a43a70c6-9890-420a-a717-76daeb6bd038"
      },
      "execution_count": 65,
      "outputs": [
        {
          "output_type": "stream",
          "name": "stdout",
          "text": [
            "                     Cantidad Total Venta    Ganancia\n",
            "Producto                                             \n",
            "Pizza                     986  $5.423.000  $2.119.900\n",
            "Hamburguesa XL           1469  $4.700.800  $1.615.900\n",
            "Hamburguesa Regular      2008  $4.417.600  $1.405.600\n"
          ]
        }
      ]
    },
    {
      "cell_type": "markdown",
      "source": [
        "#**Análisis diario**"
      ],
      "metadata": {
        "id": "jcouMzkc7bdW"
      }
    },
    {
      "cell_type": "code",
      "source": [
        "resumen_diario = df.groupby(\"Fecha\")[[\"Cantidad\", \"Total Venta\", \"Ganancia\"]].sum().sort_index()\n",
        "print(resumen_diario)\n"
      ],
      "metadata": {
        "colab": {
          "base_uri": "https://localhost:8080/"
        },
        "id": "6wdL3W_n8f7M",
        "outputId": "b5a0b4fe-4f14-4a56-ea77-48f9b7bad08b"
      },
      "execution_count": 67,
      "outputs": [
        {
          "output_type": "stream",
          "name": "stdout",
          "text": [
            "            Cantidad  Total Venta  Ganancia\n",
            "Fecha                                      \n",
            "2024-01-01        92       249400     87600\n",
            "2024-01-02        83       193300     66480\n",
            "2024-01-03        70       168800     56540\n",
            "2024-01-04        58       172800     62850\n",
            "2024-01-05        47       134700     48280\n",
            "...              ...          ...       ...\n",
            "2024-03-27        87       178800     58650\n",
            "2024-03-28       117       348800    124630\n",
            "2024-03-29        58       139900     46940\n",
            "2024-03-30        51       104500     32810\n",
            "2024-03-31        72       221000     81590\n",
            "\n",
            "[91 rows x 3 columns]\n"
          ]
        }
      ]
    },
    {
      "cell_type": "markdown",
      "source": [
        "#**Día más rentable**"
      ],
      "metadata": {
        "id": "uVlv8u_K83vk"
      }
    },
    {
      "cell_type": "code",
      "source": [
        "mejor_dia = resumen_diario[\"Ganancia\"].idxmax()\n",
        "ganancia_max = resumen_diario[\"Ganancia\"].max()\n",
        "print(f\"🤑 El día más rentable fue {mejor_dia} con una ganancia de {formatear_miles(ganancia_max, True)}\")\n"
      ],
      "metadata": {
        "colab": {
          "base_uri": "https://localhost:8080/"
        },
        "id": "G9Fwi_M688wS",
        "outputId": "c08b865f-245c-4e6a-eb81-bd06bcd44ace"
      },
      "execution_count": 68,
      "outputs": [
        {
          "output_type": "stream",
          "name": "stdout",
          "text": [
            "🤑 El día más rentable fue 2024-03-07 00:00:00 con una ganancia de $126.110\n"
          ]
        }
      ]
    },
    {
      "cell_type": "markdown",
      "source": [
        "#**Ventas promedio por producto**"
      ],
      "metadata": {
        "id": "00vpK-K79G00"
      }
    },
    {
      "cell_type": "code",
      "source": [
        "promedios = df.groupby(\"Producto\")[[\"Cantidad\", \"Total Venta\", \"Ganancia\"]].mean()\n",
        "print(formatear_miles(promedios))"
      ],
      "metadata": {
        "colab": {
          "base_uri": "https://localhost:8080/"
        },
        "id": "zLPujc3r9LUC",
        "outputId": "4eced3a7-c475-4bd3-fb50-858ca345b127"
      },
      "execution_count": 72,
      "outputs": [
        {
          "output_type": "stream",
          "name": "stdout",
          "text": [
            "                     Cantidad   Total Venta     Ganancia\n",
            "Producto                                                \n",
            "Cerveza              3.081967   4622.950820   893.770492\n",
            "Hamburguesa Regular  2.957290   6506.038292  2070.103093\n",
            "Hamburguesa XL       3.016427   9652.566735  3318.069815\n",
            "Papas                2.952715   5019.614711  2066.900175\n",
            "Pizza                3.006098  16533.536585  6463.109756\n"
          ]
        }
      ]
    },
    {
      "cell_type": "markdown",
      "source": [
        "#**Detectar productos poco vendidos**"
      ],
      "metadata": {
        "id": "cZepybRy9nSU"
      }
    },
    {
      "cell_type": "code",
      "source": [
        "productos_poco_vendidos = df.groupby(\"Producto\")[\"Cantidad\"].sum().sort_values().head()\n",
        "print(productos_poco_vendidos)"
      ],
      "metadata": {
        "colab": {
          "base_uri": "https://localhost:8080/"
        },
        "id": "Vmd5Ad2v9rkL",
        "outputId": "256c26ac-972e-4a4e-ef64-d3271ec3b7cd"
      },
      "execution_count": 73,
      "outputs": [
        {
          "output_type": "stream",
          "name": "stdout",
          "text": [
            "Producto\n",
            "Cerveza                 752\n",
            "Pizza                   986\n",
            "Hamburguesa XL         1469\n",
            "Papas                  1686\n",
            "Hamburguesa Regular    2008\n",
            "Name: Cantidad, dtype: int64\n"
          ]
        }
      ]
    },
    {
      "cell_type": "markdown",
      "source": [
        "#**Productos con ganancia negativa (si los hubiera)**"
      ],
      "metadata": {
        "id": "G1ZcQZGm92sz"
      }
    },
    {
      "cell_type": "code",
      "source": [
        "perdidas = df[df[\"Ganancia\"] < 0]\n",
        "print(perdidas)"
      ],
      "metadata": {
        "colab": {
          "base_uri": "https://localhost:8080/"
        },
        "id": "oiLKmMrM98wP",
        "outputId": "b034d1be-5fa7-43ff-db37-264371da6c40"
      },
      "execution_count": 74,
      "outputs": [
        {
          "output_type": "stream",
          "name": "stdout",
          "text": [
            "Empty DataFrame\n",
            "Columns: [Fecha, Producto, Cantidad, Precio Unitario, Total Venta, Costo Unitario, Total Costo, Ganancia]\n",
            "Index: []\n"
          ]
        }
      ]
    },
    {
      "cell_type": "markdown",
      "source": [
        "#**Descargamos el documento ya modificado con todos los parámetros necesarios para tener en cuenta a la hora de iniciar una nueva campaña de venta**"
      ],
      "metadata": {
        "id": "s9py59Pq-NC2"
      }
    },
    {
      "cell_type": "code",
      "source": [
        "from google.colab import files\n",
        "\n",
        "#primero guardamos el progreso:\n",
        "df.to_excel(\"ventas_modificado.xlsx\", index=False)\n",
        "\n",
        "#ahora creamos el script que nos va a permitir descargarlo\n",
        "files.download(\"ventas_modificado.xlsx\")"
      ],
      "metadata": {
        "colab": {
          "base_uri": "https://localhost:8080/",
          "height": 17
        },
        "id": "EGg953Wr-xxK",
        "outputId": "0f2aeac5-1297-4429-eadb-b396cbda5040"
      },
      "execution_count": 76,
      "outputs": [
        {
          "output_type": "display_data",
          "data": {
            "text/plain": [
              "<IPython.core.display.Javascript object>"
            ],
            "application/javascript": [
              "\n",
              "    async function download(id, filename, size) {\n",
              "      if (!google.colab.kernel.accessAllowed) {\n",
              "        return;\n",
              "      }\n",
              "      const div = document.createElement('div');\n",
              "      const label = document.createElement('label');\n",
              "      label.textContent = `Downloading \"${filename}\": `;\n",
              "      div.appendChild(label);\n",
              "      const progress = document.createElement('progress');\n",
              "      progress.max = size;\n",
              "      div.appendChild(progress);\n",
              "      document.body.appendChild(div);\n",
              "\n",
              "      const buffers = [];\n",
              "      let downloaded = 0;\n",
              "\n",
              "      const channel = await google.colab.kernel.comms.open(id);\n",
              "      // Send a message to notify the kernel that we're ready.\n",
              "      channel.send({})\n",
              "\n",
              "      for await (const message of channel.messages) {\n",
              "        // Send a message to notify the kernel that we're ready.\n",
              "        channel.send({})\n",
              "        if (message.buffers) {\n",
              "          for (const buffer of message.buffers) {\n",
              "            buffers.push(buffer);\n",
              "            downloaded += buffer.byteLength;\n",
              "            progress.value = downloaded;\n",
              "          }\n",
              "        }\n",
              "      }\n",
              "      const blob = new Blob(buffers, {type: 'application/binary'});\n",
              "      const a = document.createElement('a');\n",
              "      a.href = window.URL.createObjectURL(blob);\n",
              "      a.download = filename;\n",
              "      div.appendChild(a);\n",
              "      a.click();\n",
              "      div.remove();\n",
              "    }\n",
              "  "
            ]
          },
          "metadata": {}
        },
        {
          "output_type": "display_data",
          "data": {
            "text/plain": [
              "<IPython.core.display.Javascript object>"
            ],
            "application/javascript": [
              "download(\"download_d78fb6ff-c5e1-4a42-b8f5-edbadf6fd632\", \"ventas_modificado.xlsx\", 81975)"
            ]
          },
          "metadata": {}
        }
      ]
    }
  ]
}